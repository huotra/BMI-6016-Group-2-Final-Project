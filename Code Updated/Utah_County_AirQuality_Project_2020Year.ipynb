{
 "cells": [
  {
   "cell_type": "code",
   "execution_count": 61,
   "id": "5c60c62b-ff32-4d1a-a29e-eaf37411d4a8",
   "metadata": {},
   "outputs": [],
   "source": [
    "import pandas as pd"
   ]
  },
  {
   "cell_type": "code",
   "execution_count": 62,
   "id": "19632894-b60c-43a0-a7f7-107179e65312",
   "metadata": {},
   "outputs": [
    {
     "name": "stdout",
     "output_type": "stream",
     "text": [
      "     time_stamp  pm2.5_atm\n",
      "0    2020-01-01    51.6680\n",
      "1    2020-01-02    36.8085\n",
      "2    2020-01-03    43.7750\n",
      "3    2020-01-04    45.1225\n",
      "4    2020-01-05    42.2160\n",
      "..          ...        ...\n",
      "322  2020-12-27     7.1235\n",
      "323  2020-12-28     3.4260\n",
      "324  2020-12-29     4.5030\n",
      "325  2020-12-30     7.4095\n",
      "326  2020-12-31     9.4385\n",
      "\n",
      "[327 rows x 2 columns]\n"
     ]
    }
   ],
   "source": [
    "year_to_filter = 2020\n",
    "df_13311 = pd.read_csv(\"C:\\\\Users\\\\manis\\\\Downloads\\\\Project\\\\PurpleAir\\\\13311 2020-01-01 2023-12-31 1440-Minute Average.csv\")\n",
    "\n",
    "# Remove duplicate records\n",
    "df_13311 = df_13311.drop_duplicates()\n",
    "\n",
    "# Remove null records\n",
    "df_13311 = df_13311.dropna()\n",
    "\n",
    "df_13311['time_stamp'] = pd.to_datetime(df_13311['time_stamp'])\n",
    "\n",
    "# Keep only the date part in the 'time_stamp' column\n",
    "df_13311['time_stamp'] = df_13311['time_stamp'].dt.date\n",
    "\n",
    "# Filter the DataFrame based on the year value\n",
    "filtered_df_13311 = df_13311[df_13311['time_stamp'].astype(str).str[:4] == str(year_to_filter)]\n",
    "filtered_df_13311_2_5 = filtered_df_13311[['time_stamp', 'pm2.5_atm']]\n",
    "filtered_df_13311_10 = filtered_df_13311[['time_stamp', 'pm10.0_atm']]\n",
    "print(filtered_df_13311_2_5)\n",
    "# print(filtered_df_13311_10)\n"
   ]
  },
  {
   "cell_type": "code",
   "execution_count": 63,
   "id": "61a6b395-c89f-4100-ae6e-0fed1a6072f7",
   "metadata": {
    "scrolled": true
   },
   "outputs": [
    {
     "name": "stdout",
     "output_type": "stream",
     "text": [
      "Average pm2.5 concentration: 38.54872782874617\n",
      "Average pm10 concentration: 40.57950458715596\n"
     ]
    }
   ],
   "source": [
    "\n",
    "\n",
    "average_pm25_13311 = filtered_df_13311_2_5['pm2.5_atm'].mean()\n",
    "average_pm10_13311 = filtered_df_13311_10['pm10.0_atm'].mean()\n",
    "\n",
    "print(\"Average pm2.5 concentration:\", average_pm25_13311)\n",
    "\n",
    "print(\"Average pm10 concentration:\", average_pm10_13311)\n",
    "\n"
   ]
  },
  {
   "cell_type": "code",
   "execution_count": 64,
   "id": "c25228a7-229b-4c00-9ea0-e09087ddb3c0",
   "metadata": {},
   "outputs": [
    {
     "name": "stdout",
     "output_type": "stream",
     "text": [
      "     time_stamp  pm2.5_atm\n",
      "0      1/1/2020        5.3\n",
      "1      1/2/2020        2.2\n",
      "2      1/3/2020        5.5\n",
      "3      1/4/2020        8.3\n",
      "4      1/5/2020        8.6\n",
      "..          ...        ...\n",
      "358  12/27/2020       10.9\n",
      "359  12/28/2020        8.4\n",
      "360  12/29/2020        9.6\n",
      "361  12/30/2020       14.4\n",
      "362  12/31/2020       16.2\n",
      "\n",
      "[363 rows x 2 columns]\n"
     ]
    }
   ],
   "source": [
    "df_EPA_2_5 = pd.read_csv(\"C:\\\\Users\\\\manis\\\\Downloads\\\\Project\\\\EPA\\\\EPA PM2.5 SLC 2020 data.csv\")\n",
    "# Remove duplicate records\n",
    "df_EPA_2_5 = df_EPA_2_5.drop_duplicates()\n",
    "\n",
    "# Remove null records\n",
    "df_EPA_2_5 = df_EPA_2_5.dropna()\n",
    "site_id_to_filter = 490352005\n",
    "df_490352005_2_5 = df_EPA_2_5[df_EPA_2_5['Site ID'] == site_id_to_filter]\n",
    "df_490352005_2_5 = df_490352005_2_5.rename(columns={'Date': 'time_stamp', 'Daily Mean PM2.5 Concentration': 'pm2.5_atm'})\n",
    "\n",
    "# Select only the renamed columns\n",
    "df_filter_490352005_2_5 = df_490352005_2_5[['time_stamp', 'pm2.5_atm']]\n",
    "\n",
    "print(df_filter_490352005_2_5)"
   ]
  },
  {
   "cell_type": "code",
   "execution_count": 65,
   "id": "7f9173a4-2f08-4631-bf86-1448aa005b1a",
   "metadata": {},
   "outputs": [
    {
     "name": "stdout",
     "output_type": "stream",
     "text": [
      "Empty DataFrame\n",
      "Columns: [time_stamp, pm10.0_atm]\n",
      "Index: []\n"
     ]
    }
   ],
   "source": [
    "df_EPA_10 = pd.read_csv(\"C:\\\\Users\\\\manis\\\\Downloads\\\\Project\\\\EPA\\\\EPA PM10 SLC 2020 data.csv\")\n",
    "# unique_site_ids = df_EPA_10['Site ID'].unique()\n",
    "# print(\"Unique Site IDs:\", unique_site_ids)\n",
    "# Remove duplicate records\n",
    "df_EPA_10 = df_EPA_10.drop_duplicates()\n",
    "\n",
    "# Remove null records\n",
    "df_EPA_10 = df_EPA_10.dropna()\n",
    "\n",
    "site_id_to_filter = 490352005\n",
    "df_490352005_10 = df_EPA_10[df_EPA_10['Site ID'] == site_id_to_filter]\n",
    "df_490352005_10 = df_490352005_10.rename(columns={'Date': 'time_stamp', 'Daily Mean PM10 Concentration': 'pm10.0_atm'})\n",
    "\n",
    "# Select only the renamed columns\n",
    "df_filter_490352005_10 = df_490352005_10[['time_stamp', 'pm10.0_atm']]\n",
    "\n",
    "print(df_filter_490352005_10)\n",
    "\n",
    "# Unique Site IDs: [490353006 490353013 490353015]"
   ]
  },
  {
   "cell_type": "code",
   "execution_count": 66,
   "id": "abb5b1a7-794e-4f7f-8f23-b924b3ad9a1a",
   "metadata": {},
   "outputs": [
    {
     "name": "stdout",
     "output_type": "stream",
     "text": [
      "23.14265797101449\n",
      "40.57950458715596\n"
     ]
    }
   ],
   "source": [
    "union_df_cve_2_5 = pd.concat([filtered_df_13311_2_5, df_filter_490352005_2_5])\n",
    "union_df_cve_2_5['location'] = 'Copperview Elementary'\n",
    "\n",
    "average_df_cve_2_5 = union_df_cve_2_5['pm2.5_atm'].mean()\n",
    "\n",
    "filtered_df_13311_10['location'] = 'Copperview Elementary'\n",
    "union_df_cve_10 = filtered_df_13311_10\n",
    "\n",
    "average_df_cve_10 =union_df_cve_10['pm10.0_atm'].mean()\n",
    "\n",
    "print(average_df_cve_2_5)\n",
    "print(average_df_cve_10)"
   ]
  },
  {
   "cell_type": "markdown",
   "id": "14aa0f92-02bd-461f-81b2-4985e7e8d5d5",
   "metadata": {},
   "source": [
    "6662_Purple Air\n",
    "EPA - Site ID: 490353006"
   ]
  },
  {
   "cell_type": "code",
   "execution_count": 67,
   "id": "1e44a762-d31f-4186-abe7-3d40a1590dec",
   "metadata": {},
   "outputs": [
    {
     "name": "stdout",
     "output_type": "stream",
     "text": [
      "     time_stamp  pm2.5_atm\n",
      "0    2020-01-01    20.5540\n",
      "1    2020-01-02     3.9305\n",
      "2    2020-01-03     6.4345\n",
      "3    2020-01-04     5.2365\n",
      "4    2020-01-05    16.2790\n",
      "..          ...        ...\n",
      "361  2020-12-27    26.2455\n",
      "362  2020-12-28     8.5520\n",
      "363  2020-12-29     9.3495\n",
      "364  2020-12-30    11.2100\n",
      "365  2020-12-31    22.0270\n",
      "\n",
      "[366 rows x 2 columns]\n",
      "     time_stamp  pm10.0_atm\n",
      "0    2020-01-01     22.5825\n",
      "1    2020-01-02      4.1840\n",
      "2    2020-01-03      6.7990\n",
      "3    2020-01-04      5.5815\n",
      "4    2020-01-05     17.3245\n",
      "..          ...         ...\n",
      "361  2020-12-27     28.9175\n",
      "362  2020-12-28      9.0540\n",
      "363  2020-12-29      9.9760\n",
      "364  2020-12-30     12.0295\n",
      "365  2020-12-31     23.7235\n",
      "\n",
      "[366 rows x 2 columns]\n"
     ]
    }
   ],
   "source": [
    "year_to_filter = 2020\n",
    "df_6622 = pd.read_csv(\"C:\\\\Users\\\\manis\\\\Downloads\\\\Project\\\\PurpleAir\\\\6622 2020-01-01 2023-12-31 1440-Minute Average.csv\")\n",
    "\n",
    "# Remove duplicate records\n",
    "df_6622 = df_6622.drop_duplicates()\n",
    "\n",
    "# Remove null records\n",
    "df_6622 = df_6622.dropna()\n",
    "df_6622['time_stamp'] = pd.to_datetime(df_6622['time_stamp'])\n",
    "\n",
    "# Keep only the date part in the 'time_stamp' column\n",
    "df_6622['time_stamp'] = df_6622['time_stamp'].dt.date\n",
    "\n",
    "# Filter the DataFrame based on the year value\n",
    "filtered_df_6622 = df_6622[df_6622['time_stamp'].astype(str).str[:4] == str(year_to_filter)]\n",
    "filtered_df_6622_2_5 = filtered_df_6622[['time_stamp', 'pm2.5_atm']]\n",
    "filtered_df_6622_10 = filtered_df_6622[['time_stamp', 'pm10.0_atm']]\n",
    "print(filtered_df_6622_2_5)\n",
    "print(filtered_df_6622_10)\n"
   ]
  },
  {
   "cell_type": "code",
   "execution_count": 68,
   "id": "6e6fc35e-949c-4a95-8ff6-98535d170c4d",
   "metadata": {},
   "outputs": [
    {
     "name": "stdout",
     "output_type": "stream",
     "text": [
      "Average pm2.5 concentration: 7.708810109289619\n",
      "Average pm10 concentration: 8.480065573770492\n"
     ]
    }
   ],
   "source": [
    "average_pm25_6622 = filtered_df_6622_2_5['pm2.5_atm'].mean()\n",
    "average_pm10_6622 = filtered_df_6622_10['pm10.0_atm'].mean()\n",
    "\n",
    "print(\"Average pm2.5 concentration:\", average_pm25_6622)\n",
    "\n",
    "print(\"Average pm10 concentration:\", average_pm10_6622)"
   ]
  },
  {
   "cell_type": "code",
   "execution_count": 69,
   "id": "87505145-2fff-4cf5-bc85-ddcb2dd1a5a3",
   "metadata": {},
   "outputs": [
    {
     "name": "stdout",
     "output_type": "stream",
     "text": [
      "      time_stamp  pm2.5_atm\n",
      "363     1/3/2020        5.8\n",
      "364     1/4/2020        8.5\n",
      "365     1/5/2020       10.5\n",
      "366    1/14/2020        3.0\n",
      "367    1/15/2020        7.2\n",
      "...          ...        ...\n",
      "1374  12/27/2020       10.8\n",
      "1375  12/28/2020        3.2\n",
      "1376  12/29/2020        7.2\n",
      "1377  12/30/2020       10.5\n",
      "1378  12/31/2020       14.4\n",
      "\n",
      "[1016 rows x 2 columns]\n"
     ]
    }
   ],
   "source": [
    "df_EPA_2_5 = pd.read_csv(\"C:\\\\Users\\\\manis\\\\Downloads\\\\Project\\\\EPA\\\\EPA PM2.5 SLC 2020 data.csv\")\n",
    "# Remove duplicate records\n",
    "df_EPA_2_5  = df_EPA_2_5.drop_duplicates()\n",
    "\n",
    "# Remove null records\n",
    "df_EPA_2_5  = df_EPA_2_5.dropna()\n",
    "\n",
    "site_id_to_filter = 490353006\n",
    "df_490352006_2_5 = df_EPA_2_5[df_EPA_2_5['Site ID'] == site_id_to_filter]\n",
    "df_490352006_2_5 = df_490352006_2_5.rename(columns={'Date': 'time_stamp', 'Daily Mean PM2.5 Concentration': 'pm2.5_atm'})\n",
    "\n",
    "# Select only the renamed columns\n",
    "df_filter_490352006_2_5 = df_490352006_2_5[['time_stamp', 'pm2.5_atm']]\n",
    "\n",
    "print(df_filter_490352006_2_5)"
   ]
  },
  {
   "cell_type": "code",
   "execution_count": 70,
   "id": "3cd8ce31-d67d-42d2-a674-709791c8c40d",
   "metadata": {},
   "outputs": [
    {
     "name": "stdout",
     "output_type": "stream",
     "text": [
      "     time_stamp  pm10.0_atm\n",
      "0      1/8/2020          15\n",
      "1      1/9/2020          13\n",
      "2     1/10/2020          12\n",
      "3     1/11/2020          15\n",
      "4     1/12/2020           6\n",
      "..          ...         ...\n",
      "349  12/27/2020          21\n",
      "350  12/28/2020          11\n",
      "351  12/29/2020          21\n",
      "352  12/30/2020          30\n",
      "353  12/31/2020          23\n",
      "\n",
      "[354 rows x 2 columns]\n"
     ]
    }
   ],
   "source": [
    "df_EPA_10 = pd.read_csv(\"C:\\\\Users\\\\manis\\\\Downloads\\\\Project\\EPA\\\\EPA PM10 SLC 2020 data.csv\")\n",
    "# unique_site_ids = df_EPA_10['Site ID'].unique()\n",
    "# print(\"Unique Site IDs:\", unique_site_ids)\n",
    "df_EPA_10  = df_EPA_10.drop_duplicates()\n",
    "\n",
    "# Remove null records\n",
    "df_EPA_10 = df_EPA_10.dropna()\n",
    "site_id_to_filter =490353006\n",
    "df_490352006_10 = df_EPA_10[df_EPA_10['Site ID'] == site_id_to_filter]\n",
    "df_490352006_10 = df_490352006_10.rename(columns={'Date': 'time_stamp', 'Daily Mean PM10 Concentration': 'pm10.0_atm'})\n",
    "\n",
    "# Select only the renamed columns\n",
    "df_filter_490352006_10 = df_490352006_10[['time_stamp', 'pm10.0_atm']]\n",
    "\n",
    "print(df_filter_490352006_10)\n",
    "\n",
    "# Unique Site IDs: [490353006 490353013 490353015]"
   ]
  },
  {
   "cell_type": "code",
   "execution_count": 71,
   "id": "1bd75d6c-a076-434e-9cb2-c526d40f0b2f",
   "metadata": {},
   "outputs": [
    {
     "name": "stdout",
     "output_type": "stream",
     "text": [
      "7.432868668596238\n",
      "14.875977777777777\n"
     ]
    }
   ],
   "source": [
    "union_df_ka_2_5 = pd.concat([filtered_df_6622_2_5, df_filter_490352006_2_5])\n",
    "union_df_ka_2_5['location'] = 'Hawthorne'\n",
    "\n",
    "average_df_ka_2_5 = union_df_ka_2_5['pm2.5_atm'].mean()\n",
    "\n",
    "union_df_ka_10 = pd.concat([filtered_df_6622_10, df_filter_490352006_10])\n",
    "\n",
    "union_df_ka_10['location'] = 'Hawthorne'\n",
    "average_df_ka_10 =union_df_ka_10['pm10.0_atm'].mean()\n",
    "\n",
    "print(average_df_ka_2_5)\n",
    "print(average_df_ka_10)"
   ]
  },
  {
   "cell_type": "markdown",
   "id": "0f342563-847b-4aa7-a832-acd9b834e78c",
   "metadata": {},
   "source": [
    "3) ROSE PARK\n",
    "EPA = 40.78422,-111.931 (Site ID: 490353010) \n",
    "PA = 90285\n"
   ]
  },
  {
   "cell_type": "code",
   "execution_count": 72,
   "id": "b8202c08-e611-4480-ba36-de0c469159de",
   "metadata": {},
   "outputs": [
    {
     "name": "stdout",
     "output_type": "stream",
     "text": [
      "   time_stamp  pm2.5_atm\n",
      "0  2020-11-16   103.2585\n",
      "   time_stamp  pm10.0_atm\n",
      "0  2020-11-16     128.371\n"
     ]
    }
   ],
   "source": [
    "year_to_filter = 2020\n",
    "df_90285 = pd.read_csv(\"C:\\\\Users\\\\manis\\\\Downloads\\\\Project\\\\PurpleAir\\\\90285 2020-01-01 2023-12-31 1440-Minute Average.csv\")\n",
    "# Remove duplicate records\n",
    "df_90285  = df_90285.drop_duplicates()\n",
    "\n",
    "# Remove null records\n",
    "df_90285  = df_90285.dropna()\n",
    "df_90285['time_stamp'] = pd.to_datetime(df_90285['time_stamp'])\n",
    "\n",
    "# Keep only the date part in the 'time_stamp' column\n",
    "df_90285['time_stamp'] = df_90285['time_stamp'].dt.date\n",
    "\n",
    "# Filter the DataFrame based on the year value\n",
    "filtered_df_90285 = df_90285[df_90285['time_stamp'].astype(str).str[:4] == str(year_to_filter)]\n",
    "filtered_df_90285_2_5 = filtered_df_90285[['time_stamp', 'pm2.5_atm']]\n",
    "filtered_df_90285_10 = filtered_df_90285[['time_stamp', 'pm10.0_atm']]\n",
    "print(filtered_df_90285_2_5)\n",
    "print(filtered_df_90285_10)"
   ]
  },
  {
   "cell_type": "code",
   "execution_count": 73,
   "id": "04bbb9c7-b523-4185-b21d-d320f06d9020",
   "metadata": {},
   "outputs": [
    {
     "name": "stdout",
     "output_type": "stream",
     "text": [
      "Average pm2.5 concentration: 103.2585\n",
      "Average pm10 concentration: 128.371\n"
     ]
    }
   ],
   "source": [
    "average_pm25_90285 = filtered_df_90285_2_5['pm2.5_atm'].mean()\n",
    "average_pm10_90285 = filtered_df_90285_10['pm10.0_atm'].mean()\n",
    "\n",
    "print(\"Average pm2.5 concentration:\", average_pm25_90285)\n",
    "\n",
    "print(\"Average pm10 concentration:\", average_pm10_90285)"
   ]
  },
  {
   "cell_type": "code",
   "execution_count": 74,
   "id": "b836f0b7-e58f-4aac-a89f-79f38cad318e",
   "metadata": {},
   "outputs": [
    {
     "name": "stdout",
     "output_type": "stream",
     "text": [
      "      time_stamp  pm2.5_atm\n",
      "1379    1/1/2020        8.4\n",
      "1380    1/2/2020        4.9\n",
      "1381    1/3/2020        4.7\n",
      "1382    1/4/2020        8.3\n",
      "1383    1/5/2020       15.4\n",
      "...          ...        ...\n",
      "2435  12/27/2020       10.7\n",
      "2436  12/28/2020        8.9\n",
      "2437  12/29/2020        9.4\n",
      "2438  12/30/2020       14.1\n",
      "2439  12/31/2020       15.4\n",
      "\n",
      "[1061 rows x 2 columns]\n"
     ]
    }
   ],
   "source": [
    "df_EPA_2_5 = pd.read_csv(\"C:\\\\Users\\\\manis\\\\Downloads\\\\Project\\\\EPA\\\\EPA PM2.5 SLC 2020 data.csv\")\n",
    "# Remove duplicate records\n",
    "df_EPA_2_5 = df_EPA_2_5.drop_duplicates()\n",
    "\n",
    "# Remove null records\n",
    "df_EPA_2_5  = df_EPA_2_5.dropna()\n",
    "site_id_to_filter = 490353010\n",
    "df_490353010_2_5 = df_EPA_2_5[df_EPA_2_5['Site ID'] == site_id_to_filter]\n",
    "df_490353010_2_5 = df_490353010_2_5.rename(columns={'Date': 'time_stamp', 'Daily Mean PM2.5 Concentration': 'pm2.5_atm'})\n",
    "# Select only the renamed columns\n",
    "df_filter_490353010_2_5 = df_490353010_2_5[['time_stamp', 'pm2.5_atm']]\n",
    "# df_av = df_filter_490353010_2_5['pm2.5_atm'].mean()\n",
    "# print(df)\n",
    "print(df_filter_490353010_2_5)"
   ]
  },
  {
   "cell_type": "code",
   "execution_count": 75,
   "id": "09e6e06b-08f9-45d0-8288-49afee9df7af",
   "metadata": {},
   "outputs": [
    {
     "name": "stdout",
     "output_type": "stream",
     "text": [
      "Empty DataFrame\n",
      "Columns: [time_stamp, pm10.0_atm]\n",
      "Index: []\n"
     ]
    }
   ],
   "source": [
    "df_EPA_10 = pd.read_csv(\"C:\\\\Users\\\\manis\\\\Downloads\\\\Project\\EPA\\\\EPA PM10 SLC 2020 data.csv\")\n",
    "# unique_site_ids = df_EPA_10['Site ID'].unique()\n",
    "# print(\"Unique Site IDs:\", unique_site_ids)\n",
    "# Remove duplicate records\n",
    "df_EPA_10 = df_EPA_10.drop_duplicates()\n",
    "\n",
    "# Remove null records\n",
    "df_EPA_10  = df_EPA_10.dropna()\n",
    "site_id_to_filter =490353010\n",
    "df_490353010_10 = df_EPA_10[df_EPA_10['Site ID'] == site_id_to_filter]\n",
    "df_490353010_10 = df_490353010_10.rename(columns={'Date': 'time_stamp', 'Daily Mean PM10 Concentration': 'pm10.0_atm'})\n",
    "\n",
    "# Select only the renamed columns\n",
    "df_filter_490353010_10 = df_490353010_10[['time_stamp', 'pm10.0_atm']]\n",
    "\n",
    "print(df_filter_490353010_10)\n",
    "\n",
    "# Unique Site IDs: [490353006 490353013 490353015]"
   ]
  },
  {
   "cell_type": "code",
   "execution_count": 76,
   "id": "89535b20-fb6d-4521-a2f6-0a8c3f0bc89b",
   "metadata": {
    "scrolled": true
   },
   "outputs": [
    {
     "name": "stdout",
     "output_type": "stream",
     "text": [
      "8.711919491525423\n",
      "128.371\n"
     ]
    }
   ],
   "source": [
    "union_df_rp_2_5 = pd.concat([filtered_df_90285_2_5, df_filter_490353010_2_5])\n",
    "union_df_rp_2_5['location'] = 'Rose Park'\n",
    "\n",
    "average_df_rp_2_5 = union_df_rp_2_5['pm2.5_atm'].mean()\n",
    "\n",
    "union_df_rp_10 = pd.concat([filtered_df_90285_10, df_filter_490353010_10])\n",
    "\n",
    "union_df_rp_10['location'] = 'Rose Park'\n",
    "average_df_rp_10 =filtered_df_90285_10['pm10.0_atm'].mean()\n",
    "\n",
    "print(average_df_rp_2_5)\n",
    "print(average_df_rp_10)\n"
   ]
  },
  {
   "cell_type": "markdown",
   "id": "f8dd1942-26ae-4f77-a51e-b97a8a97e316",
   "metadata": {},
   "source": [
    "4) Jordan Meadows\n",
    "EPA = 40.777145,-111.945849 (Site ID: 490353015) \n",
    "PA = 20897\n"
   ]
  },
  {
   "cell_type": "code",
   "execution_count": 77,
   "id": "4ce2bf75-806f-4210-b3b2-83719b473473",
   "metadata": {},
   "outputs": [
    {
     "name": "stdout",
     "output_type": "stream",
     "text": [
      "     time_stamp  pm2.5_atm\n",
      "0    2020-01-01    21.0740\n",
      "1    2020-01-02     3.2765\n",
      "2    2020-01-03     7.0720\n",
      "3    2020-01-04     6.0540\n",
      "4    2020-01-05    28.0105\n",
      "..          ...        ...\n",
      "361  2020-12-27    29.1835\n",
      "362  2020-12-28    13.1440\n",
      "363  2020-12-29    21.1240\n",
      "364  2020-12-30    22.0915\n",
      "365  2020-12-31    28.1135\n",
      "\n",
      "[366 rows x 2 columns]\n",
      "     time_stamp  pm10.0_atm\n",
      "0    2020-01-01     27.4315\n",
      "1    2020-01-02      4.0415\n",
      "2    2020-01-03      8.3575\n",
      "3    2020-01-04      7.3085\n",
      "4    2020-01-05     34.1155\n",
      "..          ...         ...\n",
      "361  2020-12-27     36.3035\n",
      "362  2020-12-28     15.5480\n",
      "363  2020-12-29     25.3540\n",
      "364  2020-12-30     27.4710\n",
      "365  2020-12-31     34.3955\n",
      "\n",
      "[366 rows x 2 columns]\n"
     ]
    }
   ],
   "source": [
    "year_to_filter = 2020\n",
    "df_20897 = pd.read_csv(\"C:\\\\Users\\\\manis\\\\Downloads\\\\Project\\\\PurpleAir\\\\20897 2020-01-01 2023-12-31 1440-Minute Average.csv\")\n",
    "# Remove duplicate records\n",
    "df_20897 = df_20897.drop_duplicates()\n",
    "\n",
    "# Remove null records\n",
    "df_20897  = df_20897.dropna()\n",
    "df_20897['time_stamp'] = pd.to_datetime(df_20897['time_stamp'])\n",
    "\n",
    "# Keep only the date part in the 'time_stamp' column\n",
    "df_20897['time_stamp'] = df_20897['time_stamp'].dt.date\n",
    "\n",
    "# Filter the DataFrame based on the year value\n",
    "filtered_df_20897 = df_20897[df_20897['time_stamp'].astype(str).str[:4] == str(year_to_filter)]\n",
    "filtered_df_20897_2_5 = filtered_df_20897[['time_stamp', 'pm2.5_atm']]\n",
    "filtered_df_20897_10 = filtered_df_20897[['time_stamp', 'pm10.0_atm']]\n",
    "print(filtered_df_20897_2_5)\n",
    "print(filtered_df_20897_10)"
   ]
  },
  {
   "cell_type": "code",
   "execution_count": 78,
   "id": "030f2943-2d07-46fd-94f2-e58a1682e894",
   "metadata": {},
   "outputs": [
    {
     "name": "stdout",
     "output_type": "stream",
     "text": [
      "Average pm2.5 concentration: 9.219673497267761\n",
      "Average pm10 concentration: 11.330300546448088\n"
     ]
    }
   ],
   "source": [
    "average_pm25_20897 = filtered_df_20897_2_5['pm2.5_atm'].mean()\n",
    "average_pm10_20897 = filtered_df_20897_10['pm10.0_atm'].mean()\n",
    "\n",
    "print(\"Average pm2.5 concentration:\", average_pm25_20897)\n",
    "\n",
    "print(\"Average pm10 concentration:\", average_pm10_20897)"
   ]
  },
  {
   "cell_type": "code",
   "execution_count": 79,
   "id": "4cf9cc1d-1af3-4957-bce9-e691c9f23b7f",
   "metadata": {},
   "outputs": [
    {
     "name": "stdout",
     "output_type": "stream",
     "text": [
      "     time_stamp  pm2.5_atm\n",
      "3163   1/1/2020        8.1\n",
      "3164   1/2/2020        4.7\n",
      "3165   1/3/2020        5.5\n",
      "3166   1/4/2020        8.4\n",
      "3167   1/5/2020       15.9\n",
      "...         ...        ...\n",
      "3684  6/26/2020        5.8\n",
      "3685  6/27/2020        6.1\n",
      "3686  6/28/2020        5.5\n",
      "3687  6/29/2020        5.8\n",
      "3688  6/30/2020        6.3\n",
      "\n",
      "[526 rows x 2 columns]\n"
     ]
    }
   ],
   "source": [
    "df_EPA_2_5 = pd.read_csv(\"C:\\\\Users\\\\manis\\\\Downloads\\\\Project\\\\EPA\\\\EPA PM2.5 SLC 2020 data.csv\")\n",
    "# Remove duplicate records\n",
    "df_EPA_2_5 = df_EPA_2_5.drop_duplicates()\n",
    "\n",
    "# Remove null records\n",
    "df_EPA_2_5  = df_EPA_2_5.dropna()\n",
    "site_id_to_filter = 490353015\n",
    "df_490353015_2_5 = df_EPA_2_5[df_EPA_2_5['Site ID'] == site_id_to_filter]\n",
    "df_490353015_2_5 = df_490353015_2_5.rename(columns={'Date': 'time_stamp', 'Daily Mean PM2.5 Concentration': 'pm2.5_atm'})\n",
    "\n",
    "# Select only the renamed columns\n",
    "df_filter_490353015_2_5 = df_490353015_2_5[['time_stamp', 'pm2.5_atm']]\n",
    "\n",
    "print(df_filter_490353015_2_5)"
   ]
  },
  {
   "cell_type": "code",
   "execution_count": 80,
   "id": "b0428643-cc28-49d1-b243-1879bc98727e",
   "metadata": {},
   "outputs": [
    {
     "name": "stdout",
     "output_type": "stream",
     "text": [
      "      time_stamp  pm10.0_atm\n",
      "711     1/1/2020          13\n",
      "712     1/2/2020          16\n",
      "713     1/3/2020          23\n",
      "714     1/4/2020          21\n",
      "715     1/5/2020          28\n",
      "...          ...         ...\n",
      "1058  12/27/2020          20\n",
      "1059  12/28/2020          26\n",
      "1060  12/29/2020          28\n",
      "1061  12/30/2020          32\n",
      "1062  12/31/2020          22\n",
      "\n",
      "[352 rows x 2 columns]\n"
     ]
    }
   ],
   "source": [
    "df_EPA_10 = pd.read_csv(\"C:\\\\Users\\\\manis\\\\Downloads\\\\Project\\EPA\\\\EPA PM10 SLC 2020 data.csv\")\n",
    "# unique_site_ids = df_EPA_10['Site ID'].unique()\n",
    "# print(\"Unique Site IDs:\", unique_site_ids)\n",
    "# Remove duplicate records\n",
    "df_EPA_10 = df_EPA_10.drop_duplicates()\n",
    "\n",
    "# Remove null records\n",
    "df_EPA_10  = df_EPA_10.dropna()\n",
    "site_id_to_filter =490353015\n",
    "df_490353015_10 = df_EPA_10[df_EPA_10['Site ID'] == site_id_to_filter]\n",
    "df_490353015_10 = df_490353015_10.rename(columns={'Date': 'time_stamp', 'Daily Mean PM10 Concentration': 'pm10.0_atm'})\n",
    "\n",
    "# Select only the renamed columns\n",
    "df_filter_490353015_10 = df_490353015_10[['time_stamp', 'pm10.0_atm']]\n",
    "\n",
    "print(df_filter_490353015_10)\n",
    "\n",
    "# Unique Site IDs: [490353006 490353013 490353015]"
   ]
  },
  {
   "cell_type": "code",
   "execution_count": 81,
   "id": "71005b82-fa5f-4bdb-923a-555a1db2881d",
   "metadata": {
    "scrolled": true
   },
   "outputs": [
    {
     "name": "stdout",
     "output_type": "stream",
     "text": [
      "7.764686659192826\n",
      "19.059735376044568\n"
     ]
    }
   ],
   "source": [
    "union_df_jm_2_5 = pd.concat([filtered_df_20897_2_5, df_filter_490353015_2_5])\n",
    "union_df_jm_2_5['location'] = 'Utah Technical Center'\n",
    "\n",
    "average_df_jm_2_5 = union_df_jm_2_5['pm2.5_atm'].mean()\n",
    "\n",
    "union_df_jm_10 = pd.concat([filtered_df_20897_10, df_filter_490353015_10])\n",
    "\n",
    "union_df_jm_10['location'] = 'Utah Technical Center'\n",
    "average_df_jm_10 =union_df_jm_10['pm10.0_atm'].mean()\n",
    "\n",
    "print(average_df_jm_2_5)\n",
    "print(average_df_jm_10)\n"
   ]
  },
  {
   "cell_type": "markdown",
   "id": "0bb9fff6-94aa-4e53-bab6-807c4033b7d6",
   "metadata": {
    "scrolled": true
   },
   "source": [
    "5) Near Road\n",
    "EPA = 40.6629611,-111.9018514  (Site ID: 490354002)\n",
    "PA = 18169\n"
   ]
  },
  {
   "cell_type": "code",
   "execution_count": 82,
   "id": "19c83ad3-8725-49a1-83fd-bd2d31466fe6",
   "metadata": {},
   "outputs": [
    {
     "name": "stdout",
     "output_type": "stream",
     "text": [
      "     time_stamp  pm2.5_atm\n",
      "0    2020-01-01    19.3390\n",
      "1    2020-01-02     3.0545\n",
      "2    2020-01-03     3.9215\n",
      "3    2020-01-04     6.5015\n",
      "4    2020-01-05    29.5530\n",
      "..          ...        ...\n",
      "355  2020-12-27    25.5195\n",
      "356  2020-12-28    12.3575\n",
      "357  2020-12-29     8.7560\n",
      "358  2020-12-30    20.9775\n",
      "359  2020-12-31    25.1285\n",
      "\n",
      "[360 rows x 2 columns]\n",
      "     time_stamp  pm10.0_atm\n",
      "0    2020-01-01     24.4335\n",
      "1    2020-01-02      3.6910\n",
      "2    2020-01-03      4.6710\n",
      "3    2020-01-04      7.6405\n",
      "4    2020-01-05     35.6200\n",
      "..          ...         ...\n",
      "355  2020-12-27     31.0235\n",
      "356  2020-12-28     14.6505\n",
      "357  2020-12-29     10.7180\n",
      "358  2020-12-30     25.6620\n",
      "359  2020-12-31     30.7250\n",
      "\n",
      "[360 rows x 2 columns]\n"
     ]
    }
   ],
   "source": [
    "year_to_filter = 2020\n",
    "df_18169 = pd.read_csv(\"C:\\\\Users\\\\manis\\\\Downloads\\\\Project\\\\PurpleAir\\\\18169 2020-01-01 2023-12-31 1440-Minute Average.csv\")\n",
    "# Remove duplicate records\n",
    "df_18169 = df_18169.drop_duplicates()\n",
    "\n",
    "# Remove null records\n",
    "df_18169  = df_18169.dropna()\n",
    "df_18169['time_stamp'] = pd.to_datetime(df_18169['time_stamp'])\n",
    "\n",
    "# Keep only the date part in the 'time_stamp' column\n",
    "df_18169['time_stamp'] = df_18169['time_stamp'].dt.date\n",
    "\n",
    "# Filter the DataFrame based on the year value\n",
    "filtered_df_18169 = df_18169[df_18169['time_stamp'].astype(str).str[:4] == str(year_to_filter)]\n",
    "filtered_df_18169_2_5 = filtered_df_18169[['time_stamp', 'pm2.5_atm']]\n",
    "filtered_df_18169_10 = filtered_df_18169[['time_stamp', 'pm10.0_atm']]\n",
    "print(filtered_df_18169_2_5)\n",
    "print(filtered_df_18169_10)"
   ]
  },
  {
   "cell_type": "code",
   "execution_count": 83,
   "id": "0d3aad1b-a7f3-49bb-9be8-ec3c7b7e59d6",
   "metadata": {},
   "outputs": [
    {
     "name": "stdout",
     "output_type": "stream",
     "text": [
      "Average pm2.5 concentration: 16.510333333333335\n",
      "Average pm10 concentration: 18.493743055555555\n"
     ]
    }
   ],
   "source": [
    "average_pm25_18169 = filtered_df_18169_2_5['pm2.5_atm'].mean()\n",
    "average_pm10_18169 = filtered_df_18169_10['pm10.0_atm'].mean()\n",
    "\n",
    "print(\"Average pm2.5 concentration:\", average_pm25_18169)\n",
    "\n",
    "print(\"Average pm10 concentration:\", average_pm10_18169)"
   ]
  },
  {
   "cell_type": "code",
   "execution_count": 84,
   "id": "6b1a8fb0-d17c-4469-a6d9-015aecba2aac",
   "metadata": {},
   "outputs": [
    {
     "name": "stdout",
     "output_type": "stream",
     "text": [
      "      time_stamp  pm2.5_atm\n",
      "3689    1/1/2020        8.4\n",
      "3690    1/2/2020        4.6\n",
      "3691    1/3/2020        6.4\n",
      "3692    1/4/2020       12.0\n",
      "3693    1/5/2020       13.4\n",
      "...          ...        ...\n",
      "4040  12/27/2020       11.7\n",
      "4041  12/28/2020        9.6\n",
      "4042  12/29/2020       11.0\n",
      "4043  12/30/2020       16.7\n",
      "4044  12/31/2020       16.4\n",
      "\n",
      "[356 rows x 2 columns]\n"
     ]
    }
   ],
   "source": [
    "df_EPA_2_5 = pd.read_csv(\"C:\\\\Users\\\\manis\\\\Downloads\\\\Project\\\\EPA\\\\EPA PM2.5 SLC 2020 data.csv\")\n",
    "# Remove duplicate records\n",
    "df_EPA_2_5 = df_EPA_2_5.drop_duplicates()\n",
    "\n",
    "# Remove null records\n",
    "df_EPA_2_5 = df_EPA_2_5.dropna()\n",
    "site_id_to_filter = 490354002\n",
    "df_490354002_2_5 = df_EPA_2_5[df_EPA_2_5['Site ID'] == site_id_to_filter]\n",
    "df_490354002_2_5 = df_490354002_2_5.rename(columns={'Date': 'time_stamp', 'Daily Mean PM2.5 Concentration': 'pm2.5_atm'})\n",
    "\n",
    "# Select only the renamed columns\n",
    "df_filter_490354002_2_5 = df_490354002_2_5[['time_stamp', 'pm2.5_atm']]\n",
    "\n",
    "print(df_filter_490354002_2_5)"
   ]
  },
  {
   "cell_type": "code",
   "execution_count": 85,
   "id": "39689e9b-8d07-470e-879c-9b9c13778a7b",
   "metadata": {},
   "outputs": [
    {
     "name": "stdout",
     "output_type": "stream",
     "text": [
      "Empty DataFrame\n",
      "Columns: [time_stamp, pm10.0_atm]\n",
      "Index: []\n"
     ]
    }
   ],
   "source": [
    "df_EPA_10 = pd.read_csv(\"C:\\\\Users\\\\manis\\\\Downloads\\\\Project\\EPA\\\\EPA PM10 SLC 2020 data.csv\")\n",
    "# unique_site_ids = df_EPA_10['Site ID'].unique()\n",
    "# print(\"Unique Site IDs:\", unique_site_ids)\n",
    "# Remove duplicate records\n",
    "df_20897 = df_20897.drop_duplicates()\n",
    "\n",
    "# Remove null records\n",
    "df_20897  = df_20897.dropna()\n",
    "site_id_to_filter =490354002\n",
    "df_490354002_10 = df_EPA_10[df_EPA_10['Site ID'] == site_id_to_filter]\n",
    "df_490354002_10 = df_490354002_10.rename(columns={'Date': 'time_stamp', 'Daily Mean PM10 Concentration': 'pm10.0_atm'})\n",
    "\n",
    "# Select only the renamed columns\n",
    "df_filter_490354002_10 = df_490354002_10[['time_stamp', 'pm10.0_atm']]\n",
    "\n",
    "print(df_filter_490354002_10)\n",
    "\n",
    "# Unique Site IDs: [490353006 490353013 490353015]"
   ]
  },
  {
   "cell_type": "code",
   "execution_count": 86,
   "id": "390b1574-7ad1-424d-9090-6b02a4e6f534",
   "metadata": {},
   "outputs": [
    {
     "name": "stdout",
     "output_type": "stream",
     "text": [
      "13.55156424581006\n",
      "18.493743055555555\n"
     ]
    }
   ],
   "source": [
    "union_df_nearroad_2_5 = pd.concat([filtered_df_18169_2_5, df_filter_490354002_2_5])\n",
    "union_df_nearroad_2_5['location'] = 'Hawthorne'\n",
    "\n",
    "average_df_nearroad_2_5 = union_df_nearroad_2_5['pm2.5_atm'].mean()\n",
    "\n",
    "union_df_nearroad_10 = pd.concat([filtered_df_18169_10, df_filter_490354002_10])\n",
    "\n",
    "union_df_nearroad_10['location'] = 'Near Road'\n",
    "average_df_nearroad_10 =union_df_nearroad_10['pm10.0_atm'].mean()\n",
    "\n",
    "print(average_df_nearroad_2_5)\n",
    "print(average_df_nearroad_10)"
   ]
  },
  {
   "cell_type": "code",
   "execution_count": 87,
   "id": "7be8b64a-b22a-484e-b4ba-b8f2bfa1e428",
   "metadata": {},
   "outputs": [
    {
     "name": "stdout",
     "output_type": "stream",
     "text": [
      "Requirement already satisfied: matplotlib in c:\\users\\manis\\miniconda3\\lib\\site-packages (3.8.4)\n",
      "Requirement already satisfied: contourpy>=1.0.1 in c:\\users\\manis\\miniconda3\\lib\\site-packages (from matplotlib) (1.2.1)\n",
      "Requirement already satisfied: cycler>=0.10 in c:\\users\\manis\\miniconda3\\lib\\site-packages (from matplotlib) (0.12.1)\n",
      "Requirement already satisfied: fonttools>=4.22.0 in c:\\users\\manis\\miniconda3\\lib\\site-packages (from matplotlib) (4.51.0)\n",
      "Requirement already satisfied: kiwisolver>=1.3.1 in c:\\users\\manis\\miniconda3\\lib\\site-packages (from matplotlib) (1.4.5)\n",
      "Requirement already satisfied: numpy>=1.21 in c:\\users\\manis\\miniconda3\\lib\\site-packages (from matplotlib) (1.26.4)\n",
      "Requirement already satisfied: packaging>=20.0 in c:\\users\\manis\\miniconda3\\lib\\site-packages (from matplotlib) (23.1)\n",
      "Requirement already satisfied: pillow>=8 in c:\\users\\manis\\miniconda3\\lib\\site-packages (from matplotlib) (10.3.0)\n",
      "Requirement already satisfied: pyparsing>=2.3.1 in c:\\users\\manis\\miniconda3\\lib\\site-packages (from matplotlib) (3.1.2)\n",
      "Requirement already satisfied: python-dateutil>=2.7 in c:\\users\\manis\\miniconda3\\lib\\site-packages (from matplotlib) (2.9.0.post0)\n",
      "Requirement already satisfied: six>=1.5 in c:\\users\\manis\\miniconda3\\lib\\site-packages (from python-dateutil>=2.7->matplotlib) (1.16.0)\n"
     ]
    }
   ],
   "source": [
    "!pip install matplotlib"
   ]
  },
  {
   "cell_type": "code",
   "execution_count": 91,
   "id": "7550b2f4-dd79-4caf-aaa6-9e898b558179",
   "metadata": {},
   "outputs": [
    {
     "data": {
      "image/png": "[encoded data removed]",
      "text/plain": [
       "<Figure size 640x480 with 1 Axes>"
      ]
     },
     "metadata": {},
     "output_type": "display_data"
    }
   ],
   "source": [
    "import matplotlib.pyplot as plt\n",
    "\n",
    "# Data\n",
    "locations = ['Copperview Elementary', 'Hawthorne', 'Rose Park', 'Utah Technical Center', 'Near Road']\n",
    "pm2_5 = [average_df_cve_2_5, average_df_ka_2_5, average_df_rp_2_5, average_df_jm_2_5, average_df_nearroad_2_5]\n",
    "pm10 = [average_df_cve_10, average_df_ka_10, average_df_rp_10, average_df_jm_10, average_df_nearroad_10]\n",
    "\n",
    "# Width of each bar\n",
    "bar_width = 0.35\n",
    "\n",
    "# Index for each location\n",
    "x = range(len(counties))\n",
    "\n",
    "# Plotting\n",
    "fig, ax = plt.subplots()\n",
    "bars1 = ax.bar(x, pm2_5, bar_width, label='PM2.5')\n",
    "bars2 = ax.bar([i + bar_width for i in x], pm10, bar_width, label='PM10.0')\n",
    "\n",
    "# Adding labels, title, and ticks\n",
    "ax.set_xlabel('sensor location')\n",
    "ax.set_ylabel('Average PM Concentration')\n",
    "ax.set_title('Average PM2.5 and PM10.0 Concentrations by Sensor (2020)')\n",
    "ax.set_xticks([i + bar_width/2 for i in x])\n",
    "ax.set_xticklabels(locations)\n",
    "ax.legend()\n",
    "\n",
    "# Displaying the plot\n",
    "plt.xticks(rotation=45)\n",
    "plt.tight_layout()\n",
    "plt.show()"
   ]
  },
  {
   "cell_type": "code",
   "execution_count": 89,
   "id": "90a57219-21db-4eb5-8a37-7e002ab6753a",
   "metadata": {},
   "outputs": [
    {
     "name": "stdout",
     "output_type": "stream",
     "text": [
      "File 'pm25_data.csv' has been created successfully.\n"
     ]
    }
   ],
   "source": [
    "import pandas as pd\n",
    "\n",
    "# Concatenate PM2.5 data into one DataFrame\n",
    "pm2_5df = pd.concat([union_df_cve_2_5, union_df_ka_2_5, union_df_rp_2_5, union_df_jm_2_5, union_df_nearroad_2_5])\n",
    "\n",
    "# Save PM2.5 data to CSV file with only 'time_stamp' and 'pm2.5' columns\n",
    "pm2_5df[['time_stamp', 'pm2.5_atm']].to_csv('C:\\\\Users\\\\manis\\\\Downloads\\\\Project\\\\EPA\\\\pm25_data_1.csv', index=False)\n",
    "\n",
    "print(\"File 'pm25_data.csv' has been created successfully.\")\n",
    "\n",
    "\n"
   ]
  },
  {
   "cell_type": "code",
   "execution_count": 90,
   "id": "2679d119-17b4-4a76-b6c3-cbc0e8d64976",
   "metadata": {},
   "outputs": [
    {
     "name": "stdout",
     "output_type": "stream",
     "text": [
      "File 'pm10_data.csv' has been created successfully.\n"
     ]
    }
   ],
   "source": [
    "import pandas as pd\n",
    "\n",
    "# Concatenate PM2.5 data into one DataFrame\n",
    "pm10df = pd.concat([union_df_cve_10, union_df_ka_10 , union_df_rp_10, union_df_jm_10, union_df_nearroad_10])\n",
    "\n",
    "# Save PM2.5 data to CSV file with only 'time_stamp' and 'pm2.5' columns\n",
    "pm10df[['time_stamp', 'pm10.0_atm']].to_csv('C:\\\\Users\\\\manis\\\\Downloads\\\\Project\\\\EPA\\\\pm10_data_2020_data_1.csv', index=False)\n",
    "\n",
    "print(\"File 'pm10_data.csv' has been created successfully.\")"
   ]
  }
 ],
 "metadata": {
  "kernelspec": {
   "display_name": "Python 3 (ipykernel)",
   "language": "python",
   "name": "python3"
  },
  "language_info": {
   "codemirror_mode": {
    "name": "ipython",
    "version": 3
   },
   "file_extension": ".py",
   "mimetype": "text/x-python",
   "name": "python",
   "nbconvert_exporter": "python",
   "pygments_lexer": "ipython3",
   "version": "3.11.5"
  }
 },
 "nbformat": 4,
 "nbformat_minor": 5
}
