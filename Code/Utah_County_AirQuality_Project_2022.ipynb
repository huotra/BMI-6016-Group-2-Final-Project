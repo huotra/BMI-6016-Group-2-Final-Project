{
 "cells": [
  {
   "cell_type": "code",
   "execution_count": 1,
   "id": "5c60c62b-ff32-4d1a-a29e-eaf37411d4a8",
   "metadata": {},
   "outputs": [],
   "source": [
    "import pandas as pd"
   ]
  },
  {
   "cell_type": "code",
   "execution_count": 2,
   "id": "19632894-b60c-43a0-a7f7-107179e65312",
   "metadata": {},
   "outputs": [
    {
     "name": "stdout",
     "output_type": "stream",
     "text": [
      "     time_stamp  pm2.5_atm\n",
      "592  2022-01-01     1.3125\n",
      "593  2022-01-02     6.1070\n",
      "594  2022-01-03    19.3745\n",
      "595  2022-01-04     6.4450\n",
      "596  2022-01-05     5.4595\n",
      "..          ...        ...\n",
      "952  2022-12-27    11.0720\n",
      "953  2022-12-28     1.8880\n",
      "954  2022-12-29     2.6210\n",
      "955  2022-12-30     1.2220\n",
      "956  2022-12-31     0.2955\n",
      "\n",
      "[365 rows x 2 columns]\n"
     ]
    }
   ],
   "source": [
    "year_to_filter = 2022\n",
    "df_13311 = pd.read_csv(\"13311 2020-01-01 2023-12-31 1440-Minute Average (1).csv\")\n",
    "\n",
    "df_13311['time_stamp'] = pd.to_datetime(df_13311['time_stamp'])\n",
    "\n",
    "# Keep only the date part in the 'time_stamp' column\n",
    "df_13311['time_stamp'] = df_13311['time_stamp'].dt.date\n",
    "\n",
    "# Filter the DataFrame based on the year value\n",
    "filtered_df_13311 = df_13311[df_13311['time_stamp'].astype(str).str[:4] == str(year_to_filter)]\n",
    "filtered_df_13311_2_5 = filtered_df_13311[['time_stamp', 'pm2.5_atm']]\n",
    "filtered_df_13311_10 = filtered_df_13311[['time_stamp', 'pm10.0_atm']]\n",
    "print(filtered_df_13311_2_5)\n",
    "# print(filtered_df_13311_10)\n"
   ]
  },
  {
   "cell_type": "code",
   "execution_count": 3,
   "id": "61a6b395-c89f-4100-ae6e-0fed1a6072f7",
   "metadata": {
    "scrolled": true
   },
   "outputs": [
    {
     "name": "stdout",
     "output_type": "stream",
     "text": [
      "Average pm2.5 concentration: 8.756239726027392\n",
      "Average pm10 concentration: 9.98293424657534\n"
     ]
    }
   ],
   "source": [
    "\n",
    "\n",
    "average_pm25_13311 = filtered_df_13311_2_5['pm2.5_atm'].mean()\n",
    "average_pm10_13311 = filtered_df_13311_10['pm10.0_atm'].mean()\n",
    "\n",
    "print(\"Average pm2.5 concentration:\", average_pm25_13311)\n",
    "\n",
    "print(\"Average pm10 concentration:\", average_pm10_13311)\n",
    "\n"
   ]
  },
  {
   "cell_type": "code",
   "execution_count": null,
   "id": "efa1f3b8-64b4-4d67-8df6-25fbbbf87544",
   "metadata": {},
   "outputs": [],
   "source": []
  },
  {
   "cell_type": "code",
   "execution_count": 4,
   "id": "c25228a7-229b-4c00-9ea0-e09087ddb3c0",
   "metadata": {},
   "outputs": [
    {
     "name": "stdout",
     "output_type": "stream",
     "text": [
      "     time_stamp  pm2.5_atm\n",
      "0      1/1/2022        4.3\n",
      "1      1/2/2022        8.5\n",
      "2      1/3/2022       16.5\n",
      "3      1/4/2022        5.0\n",
      "4      1/5/2022        5.2\n",
      "..          ...        ...\n",
      "713  12/27/2022        1.9\n",
      "714  12/28/2022        2.3\n",
      "715  12/29/2022        3.3\n",
      "716  12/30/2022        1.6\n",
      "717  12/31/2022        3.8\n",
      "\n",
      "[718 rows x 2 columns]\n"
     ]
    }
   ],
   "source": [
    "df_EPA_2_5 = pd.read_csv(\"EPA PM2.5 SLC 2022 data.csv\")\n",
    "site_id_to_filter = 490352005\n",
    "df_490352005_2_5 = df_EPA_2_5[df_EPA_2_5['Site ID'] == site_id_to_filter]\n",
    "df_490352005_2_5 = df_490352005_2_5.rename(columns={'Date': 'time_stamp', 'Daily Mean PM2.5 Concentration': 'pm2.5_atm'})\n",
    "\n",
    "# Select only the renamed columns\n",
    "df_filter_490352005_2_5 = df_490352005_2_5[['time_stamp', 'pm2.5_atm']]\n",
    "\n",
    "print(df_filter_490352005_2_5)"
   ]
  },
  {
   "cell_type": "code",
   "execution_count": 5,
   "id": "7f9173a4-2f08-4631-bf86-1448aa005b1a",
   "metadata": {},
   "outputs": [
    {
     "name": "stdout",
     "output_type": "stream",
     "text": [
      "Empty DataFrame\n",
      "Columns: [time_stamp, pm10.0_atm]\n",
      "Index: []\n"
     ]
    }
   ],
   "source": [
    "df_EPA_10 = pd.read_csv(\"EPA PM10 SLC 2022 data.csv\")\n",
    "# unique_site_ids = df_EPA_10['Site ID'].unique()\n",
    "# print(\"Unique Site IDs:\", unique_site_ids)\n",
    "site_id_to_filter = 490352005\n",
    "df_490352005_10 = df_EPA_10[df_EPA_10['Site ID'] == site_id_to_filter]\n",
    "df_490352005_10 = df_490352005_10.rename(columns={'Date': 'time_stamp', 'Daily Mean PM10 Concentration': 'pm10.0_atm'})\n",
    "\n",
    "# Select only the renamed columns\n",
    "df_filter_490352005_10 = df_490352005_10[['time_stamp', 'pm10.0_atm']]\n",
    "\n",
    "print(df_filter_490352005_10)\n",
    "\n",
    "# Unique Site IDs: [490353006 490353013 490353015]"
   ]
  },
  {
   "cell_type": "code",
   "execution_count": 6,
   "id": "abb5b1a7-794e-4f7f-8f23-b924b3ad9a1a",
   "metadata": {},
   "outputs": [
    {
     "name": "stdout",
     "output_type": "stream",
     "text": [
      "8.424494459833793\n",
      "9.98293424657534\n"
     ]
    }
   ],
   "source": [
    "union_df_cve_2_5 = pd.concat([filtered_df_13311_2_5, df_filter_490352005_2_5])\n",
    "union_df_cve_2_5['location'] = 'Copperview Elementary'\n",
    "\n",
    "average_df_cve_2_5 = union_df_cve_2_5['pm2.5_atm'].mean()\n",
    "\n",
    "filtered_df_13311_10['location'] = 'Copperview Elementary'\n",
    "union_df_cve_10 = filtered_df_13311_10\n",
    "\n",
    "average_df_cve_10 =union_df_cve_10['pm10.0_atm'].mean()\n",
    "\n",
    "print(average_df_cve_2_5)\n",
    "print(average_df_cve_10)"
   ]
  },
  {
   "cell_type": "markdown",
   "id": "14aa0f92-02bd-461f-81b2-4985e7e8d5d5",
   "metadata": {},
   "source": [
    "6662_Purple Air\n",
    "EPA - Site ID: 490353006"
   ]
  },
  {
   "cell_type": "code",
   "execution_count": 7,
   "id": "1e44a762-d31f-4186-abe7-3d40a1590dec",
   "metadata": {},
   "outputs": [
    {
     "name": "stdout",
     "output_type": "stream",
     "text": [
      "      time_stamp  pm2.5_atm\n",
      "731   2022-01-01     2.5675\n",
      "732   2022-01-02     4.0470\n",
      "733   2022-01-03    17.0070\n",
      "734   2022-01-04     7.8185\n",
      "735   2022-01-05     5.0105\n",
      "...          ...        ...\n",
      "1091  2022-12-27     8.4250\n",
      "1092  2022-12-28     3.2105\n",
      "1093  2022-12-29     1.2390\n",
      "1094  2022-12-30     1.5710\n",
      "1095  2022-12-31     0.5895\n",
      "\n",
      "[365 rows x 2 columns]\n",
      "      time_stamp  pm10.0_atm\n",
      "731   2022-01-01      2.7540\n",
      "732   2022-01-02      4.3095\n",
      "733   2022-01-03     17.8340\n",
      "734   2022-01-04      8.3070\n",
      "735   2022-01-05      5.2765\n",
      "...          ...         ...\n",
      "1091  2022-12-27      9.1850\n",
      "1092  2022-12-28      3.4660\n",
      "1093  2022-12-29      1.3390\n",
      "1094  2022-12-30      1.7065\n",
      "1095  2022-12-31      0.6455\n",
      "\n",
      "[365 rows x 2 columns]\n"
     ]
    }
   ],
   "source": [
    "year_to_filter = 2022\n",
    "df_6622 = pd.read_csv(\"6622 2020-01-01 2023-12-31 1440-Minute Average.csv\")\n",
    "\n",
    "df_6622['time_stamp'] = pd.to_datetime(df_6622['time_stamp'])\n",
    "\n",
    "# Keep only the date part in the 'time_stamp' column\n",
    "df_6622['time_stamp'] = df_6622['time_stamp'].dt.date\n",
    "\n",
    "# Filter the DataFrame based on the year value\n",
    "filtered_df_6622 = df_6622[df_6622['time_stamp'].astype(str).str[:4] == str(year_to_filter)]\n",
    "filtered_df_6622_2_5 = filtered_df_6622[['time_stamp', 'pm2.5_atm']]\n",
    "filtered_df_6622_10 = filtered_df_6622[['time_stamp', 'pm10.0_atm']]\n",
    "print(filtered_df_6622_2_5)\n",
    "print(filtered_df_6622_10)\n"
   ]
  },
  {
   "cell_type": "code",
   "execution_count": 8,
   "id": "6e6fc35e-949c-4a95-8ff6-98535d170c4d",
   "metadata": {},
   "outputs": [
    {
     "name": "stdout",
     "output_type": "stream",
     "text": [
      "Average pm2.5 concentration: 7.2587205479452095\n",
      "Average pm10 concentration: 8.043604109589037\n"
     ]
    }
   ],
   "source": [
    "average_pm25_6622 = filtered_df_6622_2_5['pm2.5_atm'].mean()\n",
    "average_pm10_6622 = filtered_df_6622_10['pm10.0_atm'].mean()\n",
    "\n",
    "print(\"Average pm2.5 concentration:\", average_pm25_6622)\n",
    "\n",
    "print(\"Average pm10 concentration:\", average_pm10_6622)"
   ]
  },
  {
   "cell_type": "code",
   "execution_count": 9,
   "id": "87505145-2fff-4cf5-bc85-ddcb2dd1a5a3",
   "metadata": {},
   "outputs": [
    {
     "name": "stdout",
     "output_type": "stream",
     "text": [
      "      time_stamp  pm2.5_atm\n",
      "718     1/1/2022        3.6\n",
      "719     1/2/2022        8.6\n",
      "720     1/3/2022       15.4\n",
      "721     1/4/2022        5.6\n",
      "722     1/5/2022        4.7\n",
      "...          ...        ...\n",
      "1763  12/27/2022        1.0\n",
      "1764  12/28/2022        2.4\n",
      "1765  12/29/2022        0.9\n",
      "1766  12/30/2022        0.8\n",
      "1767  12/31/2022        2.3\n",
      "\n",
      "[1050 rows x 2 columns]\n"
     ]
    }
   ],
   "source": [
    "df_EPA_2_5 = pd.read_csv(\"EPA PM2.5 SLC 2022 data.csv\")\n",
    "site_id_to_filter = 490353006\n",
    "df_490352006_2_5 = df_EPA_2_5[df_EPA_2_5['Site ID'] == site_id_to_filter]\n",
    "df_490352006_2_5 = df_490352006_2_5.rename(columns={'Date': 'time_stamp', 'Daily Mean PM2.5 Concentration': 'pm2.5_atm'})\n",
    "\n",
    "# Select only the renamed columns\n",
    "df_filter_490352006_2_5 = df_490352006_2_5[['time_stamp', 'pm2.5_atm']]\n",
    "\n",
    "print(df_filter_490352006_2_5)"
   ]
  },
  {
   "cell_type": "code",
   "execution_count": 10,
   "id": "3cd8ce31-d67d-42d2-a674-709791c8c40d",
   "metadata": {},
   "outputs": [
    {
     "name": "stdout",
     "output_type": "stream",
     "text": [
      "     time_stamp  pm10.0_atm\n",
      "0      1/1/2022           8\n",
      "1      1/2/2022          18\n",
      "2      1/3/2022          37\n",
      "3      1/4/2022          38\n",
      "4      1/5/2022          13\n",
      "..          ...         ...\n",
      "721  12/27/2022           4\n",
      "722  12/28/2022           4\n",
      "723  12/29/2022           8\n",
      "724  12/30/2022           5\n",
      "725  12/31/2022           3\n",
      "\n",
      "[726 rows x 2 columns]\n"
     ]
    }
   ],
   "source": [
    "df_EPA_10 = pd.read_csv(\"EPA PM10 SLC 2022 data.csv\")\n",
    "# unique_site_ids = df_EPA_10['Site ID'].unique()\n",
    "# print(\"Unique Site IDs:\", unique_site_ids)\n",
    "site_id_to_filter =490353006\n",
    "df_490352006_10 = df_EPA_10[df_EPA_10['Site ID'] == site_id_to_filter]\n",
    "df_490352006_10 = df_490352006_10.rename(columns={'Date': 'time_stamp', 'Daily Mean PM10 Concentration': 'pm10.0_atm'})\n",
    "\n",
    "# Select only the renamed columns\n",
    "df_filter_490352006_10 = df_490352006_10[['time_stamp', 'pm10.0_atm']]\n",
    "\n",
    "print(df_filter_490352006_10)\n",
    "\n",
    "# Unique Site IDs: [490353006 490353013 490353015]"
   ]
  },
  {
   "cell_type": "code",
   "execution_count": 11,
   "id": "1bd75d6c-a076-434e-9cb2-c526d40f0b2f",
   "metadata": {},
   "outputs": [
    {
     "name": "stdout",
     "output_type": "stream",
     "text": [
      "7.612178798586566\n",
      "17.42338725939505\n"
     ]
    }
   ],
   "source": [
    "union_df_ka_2_5 = pd.concat([filtered_df_6622_2_5, df_filter_490352006_2_5])\n",
    "union_df_ka_2_5['location'] = 'Hawthorne'\n",
    "\n",
    "average_df_ka_2_5 = union_df_ka_2_5['pm2.5_atm'].mean()\n",
    "\n",
    "union_df_ka_10 = pd.concat([filtered_df_6622_10, df_filter_490352006_10])\n",
    "\n",
    "union_df_ka_10['location'] = 'Hawthorne'\n",
    "average_df_ka_10 =union_df_ka_10['pm10.0_atm'].mean()\n",
    "\n",
    "print(average_df_ka_2_5)\n",
    "print(average_df_ka_10)"
   ]
  },
  {
   "cell_type": "markdown",
   "id": "0f342563-847b-4aa7-a832-acd9b834e78c",
   "metadata": {},
   "source": [
    "3) ROSE PARK\n",
    "EPA = 40.78422,-111.931 (Site ID: 490353010) \n",
    "PA = 90285\n"
   ]
  },
  {
   "cell_type": "code",
   "execution_count": 12,
   "id": "b8202c08-e611-4480-ba36-de0c469159de",
   "metadata": {},
   "outputs": [
    {
     "name": "stdout",
     "output_type": "stream",
     "text": [
      "     time_stamp  pm2.5_atm\n",
      "274  2022-01-01     3.1805\n",
      "275  2022-01-02    10.1750\n",
      "276  2022-01-03    35.3510\n",
      "277  2022-01-04    11.8180\n",
      "278  2022-01-05     6.9790\n",
      "..          ...        ...\n",
      "634  2022-12-27    20.7485\n",
      "635  2022-12-28     6.6120\n",
      "636  2022-12-29     5.1935\n",
      "637  2022-12-30     6.2550\n",
      "638  2022-12-31     6.0850\n",
      "\n",
      "[365 rows x 2 columns]\n",
      "     time_stamp  pm10.0_atm\n",
      "274  2022-01-01      3.5810\n",
      "275  2022-01-02     11.0800\n",
      "276  2022-01-03     39.5420\n",
      "277  2022-01-04     13.5415\n",
      "278  2022-01-05      7.5155\n",
      "..          ...         ...\n",
      "634  2022-12-27     27.5805\n",
      "635  2022-12-28      7.5390\n",
      "636  2022-12-29      5.6380\n",
      "637  2022-12-30      6.8145\n",
      "638  2022-12-31      6.5220\n",
      "\n",
      "[365 rows x 2 columns]\n"
     ]
    }
   ],
   "source": [
    "year_to_filter = 2022\n",
    "df_90285 = pd.read_csv(\"90285 2020-01-01 2023-12-31 1440-Minute Average.csv\")\n",
    "\n",
    "df_90285['time_stamp'] = pd.to_datetime(df_90285['time_stamp'])\n",
    "\n",
    "# Keep only the date part in the 'time_stamp' column\n",
    "df_90285['time_stamp'] = df_90285['time_stamp'].dt.date\n",
    "\n",
    "# Filter the DataFrame based on the year value\n",
    "filtered_df_90285 = df_90285[df_90285['time_stamp'].astype(str).str[:4] == str(year_to_filter)]\n",
    "filtered_df_90285_2_5 = filtered_df_90285[['time_stamp', 'pm2.5_atm']]\n",
    "filtered_df_90285_10 = filtered_df_90285[['time_stamp', 'pm10.0_atm']]\n",
    "print(filtered_df_90285_2_5)\n",
    "print(filtered_df_90285_10)"
   ]
  },
  {
   "cell_type": "code",
   "execution_count": 13,
   "id": "04bbb9c7-b523-4185-b21d-d320f06d9020",
   "metadata": {},
   "outputs": [
    {
     "name": "stdout",
     "output_type": "stream",
     "text": [
      "Average pm2.5 concentration: 12.997991780821925\n",
      "Average pm10 concentration: 15.690494520547924\n"
     ]
    }
   ],
   "source": [
    "average_pm25_90285 = filtered_df_90285_2_5['pm2.5_atm'].mean()\n",
    "average_pm10_90285 = filtered_df_90285_10['pm10.0_atm'].mean()\n",
    "\n",
    "print(\"Average pm2.5 concentration:\", average_pm25_90285)\n",
    "\n",
    "print(\"Average pm10 concentration:\", average_pm10_90285)"
   ]
  },
  {
   "cell_type": "code",
   "execution_count": 14,
   "id": "b836f0b7-e58f-4aac-a89f-79f38cad318e",
   "metadata": {},
   "outputs": [
    {
     "name": "stdout",
     "output_type": "stream",
     "text": [
      "      time_stamp  pm2.5_atm\n",
      "1768    1/1/2022        2.9\n",
      "1769    1/2/2022        8.5\n",
      "1770    1/3/2022       16.7\n",
      "1771    1/4/2022        4.3\n",
      "1772    1/5/2022        3.8\n",
      "...          ...        ...\n",
      "2838  12/27/2022        2.3\n",
      "2839  12/28/2022        1.9\n",
      "2840  12/29/2022        3.1\n",
      "2841  12/30/2022        2.7\n",
      "2842  12/31/2022        4.0\n",
      "\n",
      "[1075 rows x 2 columns]\n"
     ]
    }
   ],
   "source": [
    "df_EPA_2_5 = pd.read_csv(\"EPA PM2.5 SLC 2022 data.csv\")\n",
    "site_id_to_filter = 490353010\n",
    "df_490353010_2_5 = df_EPA_2_5[df_EPA_2_5['Site ID'] == site_id_to_filter]\n",
    "df_490353010_2_5 = df_490353010_2_5.rename(columns={'Date': 'time_stamp', 'Daily Mean PM2.5 Concentration': 'pm2.5_atm'})\n",
    "# Select only the renamed columns\n",
    "df_filter_490353010_2_5 = df_490353010_2_5[['time_stamp', 'pm2.5_atm']]\n",
    "# df_av = df_filter_490353010_2_5['pm2.5_atm'].mean()\n",
    "# print(df)\n",
    "print(df_filter_490353010_2_5)"
   ]
  },
  {
   "cell_type": "code",
   "execution_count": 15,
   "id": "09e6e06b-08f9-45d0-8288-49afee9df7af",
   "metadata": {},
   "outputs": [
    {
     "name": "stdout",
     "output_type": "stream",
     "text": [
      "Empty DataFrame\n",
      "Columns: [time_stamp, pm10.0_atm]\n",
      "Index: []\n"
     ]
    }
   ],
   "source": [
    "df_EPA_10 = pd.read_csv(\"EPA PM10 SLC 2022 data.csv\")\n",
    "# unique_site_ids = df_EPA_10['Site ID'].unique()\n",
    "# print(\"Unique Site IDs:\", unique_site_ids)\n",
    "site_id_to_filter =490353010\n",
    "df_490353010_10 = df_EPA_10[df_EPA_10['Site ID'] == site_id_to_filter]\n",
    "df_490353010_10 = df_490353010_10.rename(columns={'Date': 'time_stamp', 'Daily Mean PM10 Concentration': 'pm10.0_atm'})\n",
    "\n",
    "# Select only the renamed columns\n",
    "df_filter_490353010_10 = df_490353010_10[['time_stamp', 'pm10.0_atm']]\n",
    "\n",
    "print(df_filter_490353010_10)\n",
    "\n",
    "# Unique Site IDs: [490353006 490353013 490353015]"
   ]
  },
  {
   "cell_type": "code",
   "execution_count": 16,
   "id": "89535b20-fb6d-4521-a2f6-0a8c3f0bc89b",
   "metadata": {
    "scrolled": true
   },
   "outputs": [
    {
     "name": "stdout",
     "output_type": "stream",
     "text": [
      "9.555532638888893\n",
      "15.690494520547924\n"
     ]
    }
   ],
   "source": [
    "union_df_rp_2_5 = pd.concat([filtered_df_90285_2_5, df_filter_490353010_2_5])\n",
    "union_df_rp_2_5['location'] = 'Rose Park'\n",
    "\n",
    "average_df_rp_2_5 = union_df_rp_2_5['pm2.5_atm'].mean()\n",
    "\n",
    "union_df_rp_10 = pd.concat([filtered_df_90285_10, df_filter_490353010_10])\n",
    "\n",
    "union_df_rp_10['location'] = 'Rose Park'\n",
    "average_df_rp_10 =filtered_df_90285_10['pm10.0_atm'].mean()\n",
    "\n",
    "print(average_df_rp_2_5)\n",
    "print(average_df_rp_10)\n"
   ]
  },
  {
   "cell_type": "markdown",
   "id": "f8dd1942-26ae-4f77-a51e-b97a8a97e316",
   "metadata": {},
   "source": [
    "4) Jordan Meadows\n",
    "EPA = 40.777145,-111.945849 (Site ID: 490353015) \n",
    "PA = 20897\n"
   ]
  },
  {
   "cell_type": "code",
   "execution_count": 17,
   "id": "4ce2bf75-806f-4210-b3b2-83719b473473",
   "metadata": {},
   "outputs": [
    {
     "name": "stdout",
     "output_type": "stream",
     "text": [
      "      time_stamp  pm2.5_atm\n",
      "731   2022-01-01     2.0240\n",
      "732   2022-01-02     9.0435\n",
      "733   2022-01-03    29.3330\n",
      "734   2022-01-04     9.2550\n",
      "735   2022-01-05     4.8010\n",
      "...          ...        ...\n",
      "1091  2022-12-27    14.9500\n",
      "1092  2022-12-28     2.6590\n",
      "1093  2022-12-29     1.7045\n",
      "1094  2022-12-30     1.8560\n",
      "1095  2022-12-31     0.6985\n",
      "\n",
      "[365 rows x 2 columns]\n",
      "      time_stamp  pm10.0_atm\n",
      "731   2022-01-01      2.7785\n",
      "732   2022-01-02     10.6725\n",
      "733   2022-01-03     35.1715\n",
      "734   2022-01-04     11.2950\n",
      "735   2022-01-05      5.7340\n",
      "...          ...         ...\n",
      "1091  2022-12-27     20.6510\n",
      "1092  2022-12-28      3.4005\n",
      "1093  2022-12-29      2.1600\n",
      "1094  2022-12-30      2.4115\n",
      "1095  2022-12-31      1.0105\n",
      "\n",
      "[365 rows x 2 columns]\n"
     ]
    }
   ],
   "source": [
    "year_to_filter = 2022\n",
    "df_20897 = pd.read_csv(\"20897 2020-01-01 2023-12-31 1440-Minute Average.csv\")\n",
    "\n",
    "df_20897['time_stamp'] = pd.to_datetime(df_20897['time_stamp'])\n",
    "\n",
    "# Keep only the date part in the 'time_stamp' column\n",
    "df_20897['time_stamp'] = df_20897['time_stamp'].dt.date\n",
    "\n",
    "# Filter the DataFrame based on the year value\n",
    "filtered_df_20897 = df_20897[df_20897['time_stamp'].astype(str).str[:4] == str(year_to_filter)]\n",
    "filtered_df_20897_2_5 = filtered_df_20897[['time_stamp', 'pm2.5_atm']]\n",
    "filtered_df_20897_10 = filtered_df_20897[['time_stamp', 'pm10.0_atm']]\n",
    "print(filtered_df_20897_2_5)\n",
    "print(filtered_df_20897_10)"
   ]
  },
  {
   "cell_type": "code",
   "execution_count": 18,
   "id": "030f2943-2d07-46fd-94f2-e58a1682e894",
   "metadata": {},
   "outputs": [
    {
     "name": "stdout",
     "output_type": "stream",
     "text": [
      "Average pm2.5 concentration: 9.819571232876703\n",
      "Average pm10 concentration: 12.49847808219178\n"
     ]
    }
   ],
   "source": [
    "average_pm25_20897 = filtered_df_20897_2_5['pm2.5_atm'].mean()\n",
    "average_pm10_20897 = filtered_df_20897_10['pm10.0_atm'].mean()\n",
    "\n",
    "print(\"Average pm2.5 concentration:\", average_pm25_20897)\n",
    "\n",
    "print(\"Average pm10 concentration:\", average_pm10_20897)"
   ]
  },
  {
   "cell_type": "code",
   "execution_count": 19,
   "id": "4cf9cc1d-1af3-4957-bce9-e691c9f23b7f",
   "metadata": {},
   "outputs": [
    {
     "name": "stdout",
     "output_type": "stream",
     "text": [
      "      time_stamp  pm2.5_atm\n",
      "3920    1/1/2022        4.0\n",
      "3921    1/2/2022        8.5\n",
      "3922    1/3/2022       18.9\n",
      "3923    1/4/2022        4.6\n",
      "3924    1/5/2022        5.0\n",
      "...          ...        ...\n",
      "4628  12/27/2022        2.5\n",
      "4629  12/28/2022        2.0\n",
      "4630  12/29/2022        3.6\n",
      "4631  12/30/2022        2.4\n",
      "4632  12/31/2022        3.1\n",
      "\n",
      "[713 rows x 2 columns]\n"
     ]
    }
   ],
   "source": [
    "df_EPA_2_5 = pd.read_csv(\"EPA PM2.5 SLC 2022 data.csv\")\n",
    "site_id_to_filter = 490353015\n",
    "df_490353015_2_5 = df_EPA_2_5[df_EPA_2_5['Site ID'] == site_id_to_filter]\n",
    "df_490353015_2_5 = df_490353015_2_5.rename(columns={'Date': 'time_stamp', 'Daily Mean PM2.5 Concentration': 'pm2.5_atm'})\n",
    "\n",
    "# Select only the renamed columns\n",
    "df_filter_490353015_2_5 = df_490353015_2_5[['time_stamp', 'pm2.5_atm']]\n",
    "\n",
    "print(df_filter_490353015_2_5)"
   ]
  },
  {
   "cell_type": "code",
   "execution_count": 20,
   "id": "b0428643-cc28-49d1-b243-1879bc98727e",
   "metadata": {},
   "outputs": [
    {
     "name": "stdout",
     "output_type": "stream",
     "text": [
      "      time_stamp  pm10.0_atm\n",
      "1428    1/1/2022          12\n",
      "1429    1/2/2022          20\n",
      "1430    1/3/2022          41\n",
      "1431    1/4/2022          41\n",
      "1432    1/5/2022          17\n",
      "...          ...         ...\n",
      "2129  12/27/2022           9\n",
      "2130  12/28/2022           5\n",
      "2131  12/29/2022           9\n",
      "2132  12/30/2022           7\n",
      "2133  12/31/2022           3\n",
      "\n",
      "[706 rows x 2 columns]\n"
     ]
    }
   ],
   "source": [
    "df_EPA_10 = pd.read_csv(\"EPA PM10 SLC 2022 data.csv\")\n",
    "# unique_site_ids = df_EPA_10['Site ID'].unique()\n",
    "# print(\"Unique Site IDs:\", unique_site_ids)\n",
    "site_id_to_filter =490353015\n",
    "df_490353015_10 = df_EPA_10[df_EPA_10['Site ID'] == site_id_to_filter]\n",
    "df_490353015_10 = df_490353015_10.rename(columns={'Date': 'time_stamp', 'Daily Mean PM10 Concentration': 'pm10.0_atm'})\n",
    "\n",
    "# Select only the renamed columns\n",
    "df_filter_490353015_10 = df_490353015_10[['time_stamp', 'pm10.0_atm']]\n",
    "\n",
    "print(df_filter_490353015_10)\n",
    "\n",
    "# Unique Site IDs: [490353006 490353013 490353015]"
   ]
  },
  {
   "cell_type": "code",
   "execution_count": 21,
   "id": "71005b82-fa5f-4bdb-923a-555a1db2881d",
   "metadata": {
    "scrolled": true
   },
   "outputs": [
    {
     "name": "stdout",
     "output_type": "stream",
     "text": [
      "8.919057050092754\n",
      "21.59471942110177\n"
     ]
    }
   ],
   "source": [
    "union_df_jm_2_5 = pd.concat([filtered_df_20897_2_5, df_filter_490353015_2_5])\n",
    "union_df_jm_2_5['location'] = 'Utah Technical Center'\n",
    "\n",
    "average_df_jm_2_5 = union_df_jm_2_5['pm2.5_atm'].mean()\n",
    "\n",
    "union_df_jm_10 = pd.concat([filtered_df_20897_10, df_filter_490353015_10])\n",
    "\n",
    "union_df_jm_10['location'] = 'Utah Technical Center'\n",
    "average_df_jm_10 =union_df_jm_10['pm10.0_atm'].mean()\n",
    "\n",
    "print(average_df_jm_2_5)\n",
    "print(average_df_jm_10)\n"
   ]
  },
  {
   "cell_type": "markdown",
   "id": "0bb9fff6-94aa-4e53-bab6-807c4033b7d6",
   "metadata": {
    "scrolled": true
   },
   "source": [
    "5) Near Road\n",
    "EPA = 40.6629611,-111.9018514  (Site ID: 490354002)\n",
    "PA = 18169\n"
   ]
  },
  {
   "cell_type": "code",
   "execution_count": 22,
   "id": "19c83ad3-8725-49a1-83fd-bd2d31466fe6",
   "metadata": {},
   "outputs": [
    {
     "name": "stdout",
     "output_type": "stream",
     "text": [
      "      time_stamp  pm2.5_atm\n",
      "724   2022-01-01     1.3390\n",
      "725   2022-01-02     7.2020\n",
      "726   2022-01-03    25.8330\n",
      "727   2022-01-04     7.5480\n",
      "728   2022-01-05     5.7565\n",
      "...          ...        ...\n",
      "1084  2022-12-27    13.2190\n",
      "1085  2022-12-28     1.6760\n",
      "1086  2022-12-29     2.8930\n",
      "1087  2022-12-30     1.1860\n",
      "1088  2022-12-31     1.1215\n",
      "\n",
      "[365 rows x 2 columns]\n",
      "      time_stamp  pm10.0_atm\n",
      "724   2022-01-01      1.8560\n",
      "725   2022-01-02      8.5920\n",
      "726   2022-01-03     29.9335\n",
      "727   2022-01-04      8.8530\n",
      "728   2022-01-05      6.7375\n",
      "...          ...         ...\n",
      "1084  2022-12-27     16.8615\n",
      "1085  2022-12-28      2.1265\n",
      "1086  2022-12-29      3.4270\n",
      "1087  2022-12-30      1.5490\n",
      "1088  2022-12-31      1.3175\n",
      "\n",
      "[365 rows x 2 columns]\n"
     ]
    }
   ],
   "source": [
    "year_to_filter = 2022\n",
    "df_18169 = pd.read_csv(\"18169 2020-01-01 2023-12-31 1440-Minute Average.csv\")\n",
    "\n",
    "df_18169['time_stamp'] = pd.to_datetime(df_18169['time_stamp'])\n",
    "\n",
    "# Keep only the date part in the 'time_stamp' column\n",
    "df_18169['time_stamp'] = df_18169['time_stamp'].dt.date\n",
    "\n",
    "# Filter the DataFrame based on the year value\n",
    "filtered_df_18169 = df_18169[df_18169['time_stamp'].astype(str).str[:4] == str(year_to_filter)]\n",
    "filtered_df_18169_2_5 = filtered_df_18169[['time_stamp', 'pm2.5_atm']]\n",
    "filtered_df_18169_10 = filtered_df_18169[['time_stamp', 'pm10.0_atm']]\n",
    "print(filtered_df_18169_2_5)\n",
    "print(filtered_df_18169_10)"
   ]
  },
  {
   "cell_type": "code",
   "execution_count": 23,
   "id": "0d3aad1b-a7f3-49bb-9be8-ec3c7b7e59d6",
   "metadata": {},
   "outputs": [
    {
     "name": "stdout",
     "output_type": "stream",
     "text": [
      "Average pm2.5 concentration: 10.115297260273977\n",
      "Average pm10 concentration: 12.380346575342463\n"
     ]
    }
   ],
   "source": [
    "average_pm25_18169 = filtered_df_18169_2_5['pm2.5_atm'].mean()\n",
    "average_pm10_18169 = filtered_df_18169_10['pm10.0_atm'].mean()\n",
    "\n",
    "print(\"Average pm2.5 concentration:\", average_pm25_18169)\n",
    "\n",
    "print(\"Average pm10 concentration:\", average_pm10_18169)"
   ]
  },
  {
   "cell_type": "code",
   "execution_count": 24,
   "id": "6b1a8fb0-d17c-4469-a6d9-015aecba2aac",
   "metadata": {},
   "outputs": [
    {
     "name": "stdout",
     "output_type": "stream",
     "text": [
      "      time_stamp  pm2.5_atm\n",
      "4977    1/1/2022        7.4\n",
      "4978    1/2/2022       10.4\n",
      "4979    1/3/2022       19.6\n",
      "4980    1/4/2022        5.4\n",
      "4981    1/5/2022        9.1\n",
      "...          ...        ...\n",
      "5692  12/27/2022        2.0\n",
      "5693  12/28/2022        2.7\n",
      "5694  12/29/2022        3.4\n",
      "5695  12/30/2022        1.5\n",
      "5696  12/31/2022        3.4\n",
      "\n",
      "[720 rows x 2 columns]\n"
     ]
    }
   ],
   "source": [
    "df_EPA_2_5 = pd.read_csv(\"EPA PM2.5 SLC 2022 data.csv\")\n",
    "site_id_to_filter = 490354002\n",
    "df_490354002_2_5 = df_EPA_2_5[df_EPA_2_5['Site ID'] == site_id_to_filter]\n",
    "df_490354002_2_5 = df_490354002_2_5.rename(columns={'Date': 'time_stamp', 'Daily Mean PM2.5 Concentration': 'pm2.5_atm'})\n",
    "\n",
    "# Select only the renamed columns\n",
    "df_filter_490354002_2_5 = df_490354002_2_5[['time_stamp', 'pm2.5_atm']]\n",
    "\n",
    "print(df_filter_490354002_2_5)"
   ]
  },
  {
   "cell_type": "code",
   "execution_count": 25,
   "id": "39689e9b-8d07-470e-879c-9b9c13778a7b",
   "metadata": {},
   "outputs": [
    {
     "name": "stdout",
     "output_type": "stream",
     "text": [
      "Empty DataFrame\n",
      "Columns: [time_stamp, pm10.0_atm]\n",
      "Index: []\n"
     ]
    }
   ],
   "source": [
    "df_EPA_10 = pd.read_csv(\"EPA PM10 SLC 2022 data.csv\")\n",
    "# unique_site_ids = df_EPA_10['Site ID'].unique()\n",
    "# print(\"Unique Site IDs:\", unique_site_ids)\n",
    "site_id_to_filter =490354002\n",
    "df_490354002_10 = df_EPA_10[df_EPA_10['Site ID'] == site_id_to_filter]\n",
    "df_490354002_10 = df_490354002_10.rename(columns={'Date': 'time_stamp', 'Daily Mean PM10 Concentration': 'pm10.0_atm'})\n",
    "\n",
    "# Select only the renamed columns\n",
    "df_filter_490354002_10 = df_490354002_10[['time_stamp', 'pm10.0_atm']]\n",
    "\n",
    "print(df_filter_490354002_10)\n",
    "\n",
    "# Unique Site IDs: [490353006 490353013 490353015]"
   ]
  },
  {
   "cell_type": "code",
   "execution_count": 26,
   "id": "390b1574-7ad1-424d-9090-6b02a4e6f534",
   "metadata": {},
   "outputs": [
    {
     "name": "stdout",
     "output_type": "stream",
     "text": [
      "9.671874193548383\n",
      "12.380346575342463\n"
     ]
    }
   ],
   "source": [
    "union_df_nearroad_2_5 = pd.concat([filtered_df_18169_2_5, df_filter_490354002_2_5])\n",
    "union_df_nearroad_2_5['location'] = 'Hawthorne'\n",
    "\n",
    "average_df_nearroad_2_5 = union_df_nearroad_2_5['pm2.5_atm'].mean()\n",
    "\n",
    "union_df_nearroad_10 = pd.concat([filtered_df_18169_10, df_filter_490354002_10])\n",
    "\n",
    "union_df_nearroad_10['location'] = 'Near Road'\n",
    "average_df_nearroad_10 =union_df_nearroad_10['pm10.0_atm'].mean()\n",
    "\n",
    "print(average_df_nearroad_2_5)\n",
    "print(average_df_nearroad_10)"
   ]
  },
  {
   "cell_type": "markdown",
   "id": "f79a883e-1a72-4777-a4be-f25448c8a718",
   "metadata": {},
   "source": [
    "4) Jordan Meadows\n",
    "EPA = 40.777145,-111.945849 (Site ID: 490353015) \n",
    "PA = 20897\n"
   ]
  },
  {
   "cell_type": "code",
   "execution_count": 27,
   "id": "7550b2f4-dd79-4caf-aaa6-9e898b558179",
   "metadata": {},
   "outputs": [
    {
     "data": {
      "image/png": "[encoded data removed]",
      "text/plain": [
       "<Figure size 432x288 with 1 Axes>"
      ]
     },
     "metadata": {
      "needs_background": "light"
     },
     "output_type": "display_data"
    }
   ],
   "source": [
    "import matplotlib.pyplot as plt\n",
    "\n",
    "# Data\n",
    "counties = ['Copperview Elementary', 'Hawthorne', 'Rose Park', 'Utah Technical Center', 'Near Road']\n",
    "pm2_5 = [average_df_cve_2_5, average_df_ka_2_5, average_df_rp_2_5, average_df_jm_2_5, average_df_nearroad_2_5]\n",
    "pm10 = [average_df_cve_10, average_df_ka_10, average_df_rp_10, average_df_jm_10, average_df_nearroad_10]\n",
    "\n",
    "# Width of each bar\n",
    "bar_width = 0.35\n",
    "\n",
    "# Index for each county\n",
    "x = range(len(counties))\n",
    "\n",
    "# Plotting\n",
    "fig, ax = plt.subplots()\n",
    "bars1 = ax.bar(x, pm2_5, bar_width, label='PM2.5')\n",
    "bars2 = ax.bar([i + bar_width for i in x], pm10, bar_width, label='PM10.0')\n",
    "\n",
    "# Adding labels, title, and ticks\n",
    "ax.set_xlabel('Counties')\n",
    "ax.set_ylabel('Average PM Concentration')\n",
    "ax.set_title('Average PM2.5 and PM10.0 Concentrations by County (2022)')\n",
    "ax.set_xticks([i + bar_width/2 for i in x])\n",
    "ax.set_xticklabels(counties)\n",
    "ax.legend()\n",
    "\n",
    "# Displaying the plot\n",
    "plt.xticks(rotation=45)\n",
    "plt.tight_layout()\n",
    "plt.show()"
   ]
  },
  {
   "cell_type": "code",
   "execution_count": 31,
   "id": "b4c16c3c",
   "metadata": {},
   "outputs": [
    {
     "name": "stdout",
     "output_type": "stream",
     "text": [
      "CSV file has been created at pm_concentrations2022.csv\n"
     ]
    }
   ],
   "source": [
    "# Define the data dictionary for PM2.5 and PM10 values by county\n",
    "average_concentrations_data_2022 = {\n",
    "    'Copperview Elementary': {'PM2.5': pm2_5[0], 'PM10': pm10[0]},\n",
    "    'Hawthorne': {'PM2.5': pm2_5[1], 'PM10': pm10[1]},\n",
    "    'Rose Park': {'PM2.5': pm2_5[2], 'PM10': pm10[2]},\n",
    "    'Utah Technical Center': {'PM2.5': pm2_5[3], 'PM10': pm10[3]},\n",
    "    'Near Road': {'PM2.5': pm2_5[4], 'PM10': pm10[4]}\n",
    "}\n",
    "\n",
    "# Convert the dictionary into a DataFrame\n",
    "pm_data_df = pd.DataFrame.from_dict(average_concentrations_data_2022, orient='index').reset_index()\n",
    "pm_data_df.rename(columns={'index': 'County'}, inplace=True)\n",
    "\n",
    "# Specify the CSV file path\n",
    "csv_file_path = 'pm_concentrations2022.csv'\n",
    "\n",
    "# Save the DataFrame to a CSV file\n",
    "pm_data_df.to_csv(csv_file_path, index=False)\n",
    "\n",
    "print(f\"CSV file has been created at {csv_file_path}\")"
   ]
  },
  {
   "cell_type": "code",
   "execution_count": 28,
   "id": "90a57219-21db-4eb5-8a37-7e002ab6753a",
   "metadata": {},
   "outputs": [
    {
     "name": "stdout",
     "output_type": "stream",
     "text": [
      "File 'pm25_data.csv' has been created successfully.\n"
     ]
    }
   ],
   "source": [
    "import pandas as pd\n",
    "\n",
    "# Concatenate PM2.5 data into one DataFrame\n",
    "pm2_5df = pd.concat([union_df_cve_2_5, union_df_ka_2_5, union_df_rp_2_5, union_df_jm_2_5, union_df_nearroad_2_5])\n",
    "\n",
    "# Save PM2.5 data to CSV file with only 'time_stamp' and 'pm2.5' columns\n",
    "pm2_5df[['time_stamp', 'pm2.5_atm']].to_csv('pm25_data_2022.csv', index=False)\n",
    "\n",
    "print(\"File 'pm25_data.csv' has been created successfully.\")\n",
    "\n",
    "\n"
   ]
  },
  {
   "cell_type": "code",
   "execution_count": 29,
   "id": "2679d119-17b4-4a76-b6c3-cbc0e8d64976",
   "metadata": {},
   "outputs": [
    {
     "name": "stdout",
     "output_type": "stream",
     "text": [
      "File 'pm10_data.csv' has been created successfully.\n"
     ]
    }
   ],
   "source": [
    "import pandas as pd\n",
    "\n",
    "# Concatenate PM2.5 data into one DataFrame\n",
    "pm10df = pd.concat([union_df_cve_10, union_df_ka_10 , union_df_rp_10, union_df_jm_10, union_df_nearroad_10])\n",
    "\n",
    "# Save PM2.5 data to CSV file with only 'time_stamp' and 'pm2.5' columns\n",
    "pm10df[['time_stamp', 'pm10.0_atm']].to_csv('pm10_data_2022.csv', index=False)\n",
    "\n",
    "print(\"File 'pm10_data.csv' has been created successfully.\")"
   ]
  },
  {
   "cell_type": "code",
   "execution_count": null,
   "id": "ff69af3d",
   "metadata": {},
   "outputs": [],
   "source": []
  }
 ],
 "metadata": {
  "kernelspec": {
   "display_name": "Python 3 (ipykernel)",
   "language": "python",
   "name": "python3"
  },
  "language_info": {
   "codemirror_mode": {
    "name": "ipython",
    "version": 3
   },
   "file_extension": ".py",
   "mimetype": "text/x-python",
   "name": "python",
   "nbconvert_exporter": "python",
   "pygments_lexer": "ipython3",
   "version": "3.9.7"
  }
 },
 "nbformat": 4,
 "nbformat_minor": 5
}
